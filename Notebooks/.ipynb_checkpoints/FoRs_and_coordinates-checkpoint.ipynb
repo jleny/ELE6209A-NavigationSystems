{
 "cells": [
  {
   "cell_type": "markdown",
   "metadata": {},
   "source": [
    "We illustrate here some manipulations of the standard frames of reference (FoRs) and coordinate computations in these frames. We illustrate in particular some of the functionality of the [Geodesy.jl](https://github.com/JuliaGeo/Geodesy.jl) package."
   ]
  },
  {
   "cell_type": "code",
   "execution_count": 2,
   "metadata": {
    "collapsed": false
   },
   "outputs": [],
   "source": [
    "using NavigationSystems, Plots, Geodesy"
   ]
  },
  {
   "cell_type": "markdown",
   "metadata": {},
   "source": [
    "## ECEF FoR: Conversion from latitude, longitude and altitude (LLA) to rectangular coordinates"
   ]
  },
  {
   "cell_type": "code",
   "execution_count": 3,
   "metadata": {
    "collapsed": false
   },
   "outputs": [
    {
     "data": {
      "text/markdown": [
       "```\n",
       "LLA(lat, lon, alt = 0.0)\n",
       "LLA(lat = ϕ, lon = Θ, alt = h)\n",
       "```\n",
       "\n",
       "Latitude, longitude, and alititude co-ordinates. *Note:* assumes degrees not radians\n"
      ],
      "text/plain": [
       "```\n",
       "LLA(lat, lon, alt = 0.0)\n",
       "LLA(lat = ϕ, lon = Θ, alt = h)\n",
       "```\n",
       "\n",
       "Latitude, longitude, and alititude co-ordinates. *Note:* assumes degrees not radians\n"
      ]
     },
     "execution_count": 3,
     "metadata": {},
     "output_type": "execute_result"
    }
   ],
   "source": [
    "@doc LLA"
   ]
  },
  {
   "cell_type": "code",
   "execution_count": 4,
   "metadata": {
    "collapsed": false
   },
   "outputs": [
    {
     "data": {
      "text/plain": [
       "LLA(lat=45.50439°, lon=-73.61288°, alt=159.0)"
      ]
     },
     "execution_count": 4,
     "metadata": {},
     "output_type": "execute_result"
    }
   ],
   "source": [
    "poly_lla = LLA(45.50439, -73.61288, 159.0)"
   ]
  },
  {
   "cell_type": "code",
   "execution_count": 5,
   "metadata": {
    "collapsed": false
   },
   "outputs": [
    {
     "data": {
      "text/markdown": [
       "```\n",
       "ECEF(x, y, z)\n",
       "```\n",
       "\n",
       "Earth-Centered-Earth-Fixed (ECEF) coordinates. A global Cartesian coordinate system rotating with the Earth.\n"
      ],
      "text/plain": [
       "```\n",
       "ECEF(x, y, z)\n",
       "```\n",
       "\n",
       "Earth-Centered-Earth-Fixed (ECEF) coordinates. A global Cartesian coordinate system rotating with the Earth.\n"
      ]
     },
     "execution_count": 5,
     "metadata": {},
     "output_type": "execute_result"
    }
   ],
   "source": [
    "@doc ECEF"
   ]
  },
  {
   "cell_type": "markdown",
   "metadata": {},
   "source": [
    "Conversion from LLA to ECEF rectangular coordinates requires the specification of a reference ellipsoid provided by a datum, such as [WGS](https://en.wikipedia.org/wiki/World_Geodetic_System) 84. Recall that WGS 84 is the coordinate system used by the Global Positioning System."
   ]
  },
  {
   "cell_type": "code",
   "execution_count": 6,
   "metadata": {
    "collapsed": false
   },
   "outputs": [
    {
     "data": {
      "text/plain": [
       "3-element Geodesy.ECEF{Float64}:\n",
       "  1.26333e6\n",
       " -4.29599e6\n",
       "  4.52692e6"
      ]
     },
     "execution_count": 6,
     "metadata": {},
     "output_type": "execute_result"
    }
   ],
   "source": [
    "poly_ecef = ECEF(poly_lla, wgs84)  # other choices: osgb36, nad27, grs80"
   ]
  },
  {
   "cell_type": "code",
   "execution_count": 7,
   "metadata": {
    "collapsed": false
   },
   "outputs": [
    {
     "data": {
      "text/plain": [
       "3-element Geodesy.ECEF{Float64}:\n",
       "  1.26321e6\n",
       " -4.29557e6\n",
       "  4.5266e6 "
      ]
     },
     "execution_count": 7,
     "metadata": {},
     "output_type": "execute_result"
    }
   ],
   "source": [
    "poly_ecef = ECEF(poly_lla, osgb36)"
   ]
  },
  {
   "cell_type": "code",
   "execution_count": 8,
   "metadata": {
    "collapsed": false
   },
   "outputs": [
    {
     "data": {
      "text/plain": [
       "3-element Geodesy.ECEF{Float64}:\n",
       "  1.26333e6\n",
       " -4.29599e6\n",
       "  4.52692e6"
      ]
     },
     "execution_count": 8,
     "metadata": {},
     "output_type": "execute_result"
    }
   ],
   "source": [
    "# Define a coordinate transformation\n",
    "T₁ = ECEFfromLLA(wgs84)\n",
    "T₁(poly_lla)"
   ]
  },
  {
   "cell_type": "markdown",
   "metadata": {},
   "source": [
    "The [Universal Transverse Mercator](https://en.wikipedia.org/wiki/Universal_Transverse_Mercator_coordinate_system) is another coordinate system used to identify locations on the surface of the Earth. See also the [Universal Polar Stereographic](https://en.wikipedia.org/wiki/Universal_polar_stereographic_coordinate_system) coordinate system."
   ]
  },
  {
   "cell_type": "code",
   "execution_count": 9,
   "metadata": {
    "collapsed": false
   },
   "outputs": [
    {
     "data": {
      "text/plain": [
       "UTMZ(608362.655337908, 5.039919967094002e6, 159.0, zone=18 (north))"
      ]
     },
     "execution_count": 9,
     "metadata": {},
     "output_type": "execute_result"
    }
   ],
   "source": [
    "poly_utmz = UTMZ(poly_lla, wgs84)"
   ]
  },
  {
   "cell_type": "markdown",
   "metadata": {},
   "source": [
    "## Local frames"
   ]
  },
  {
   "cell_type": "code",
   "execution_count": 10,
   "metadata": {
    "collapsed": false
   },
   "outputs": [
    {
     "data": {
      "text/plain": [
       "LLA(lat=45.5047847°, lon=-73.5771511°, alt=47.9)"
      ]
     },
     "execution_count": 10,
     "metadata": {},
     "output_type": "execute_result"
    }
   ],
   "source": [
    "mcgill_lla = LLA(45.5047847,-73.5771511,47.9)"
   ]
  },
  {
   "cell_type": "code",
   "execution_count": 17,
   "metadata": {
    "collapsed": false
   },
   "outputs": [
    {
     "data": {
      "text/plain": [
       "3-element Geodesy.ENU{Float64}:\n",
       " 2792.29  \n",
       "   44.4889\n",
       " -111.71  "
      ]
     },
     "execution_count": 17,
     "metadata": {},
     "output_type": "execute_result"
    }
   ],
   "source": [
    "# McGill is about 2.8 km east of Polytechnique\n",
    "mcgill_polyENU = ENU(mcgill_lla, poly_lla, wgs84)  # coordinates of McGill in ENU frame centered at Polytechnique"
   ]
  },
  {
   "cell_type": "code",
   "execution_count": 18,
   "metadata": {
    "collapsed": false
   },
   "outputs": [
    {
     "data": {
      "text/plain": [
       "NED(44.488949027108625, 2792.2858644765806, 111.71032670892181)"
      ]
     },
     "execution_count": 18,
     "metadata": {},
     "output_type": "execute_result"
    }
   ],
   "source": [
    "# The NavigationSystems package adds NED frames\n",
    "NED(mcgill_lla, poly_lla, wgs84)"
   ]
  },
  {
   "cell_type": "code",
   "execution_count": 19,
   "metadata": {
    "collapsed": false
   },
   "outputs": [
    {
     "data": {
      "text/plain": [
       "2794.8736666680797"
      ]
     },
     "execution_count": 19,
     "metadata": {},
     "output_type": "execute_result"
    }
   ],
   "source": [
    "distance(poly_lla, mcgill_lla)"
   ]
  },
  {
   "cell_type": "markdown",
   "metadata": {},
   "source": [
    "What is the z-component of McGill in Polytechnique's NED frame that is due simply to the curvature of the Earth?"
   ]
  },
  {
   "cell_type": "code",
   "execution_count": 20,
   "metadata": {
    "collapsed": false
   },
   "outputs": [
    {
     "data": {
      "text/plain": [
       "0.6103267089218178"
      ]
     },
     "execution_count": 20,
     "metadata": {},
     "output_type": "execute_result"
    }
   ],
   "source": [
    "abs(mcgill_polyENU.u) - abs(poly_lla.alt - mcgill_lla.alt)"
   ]
  },
  {
   "cell_type": "code",
   "execution_count": 21,
   "metadata": {
    "collapsed": false
   },
   "outputs": [
    {
     "data": {
      "text/plain": [
       "(ENUfromECEF(ECEF(1.2633284577999057e6, -4.29598713640459e6, 4.526924589604318e6), lat=45.50439°, lon=-73.61288°) ∘ ECEFfromLLA(Ellipsoid(wgs84_ellipsoid)))"
      ]
     },
     "execution_count": 21,
     "metadata": {},
     "output_type": "execute_result"
    }
   ],
   "source": [
    "# Define a coordinate transformation from LLA to the ENU frame centered at Polytechnique\n",
    "T₂ = ENUfromLLA(poly_lla, wgs84)"
   ]
  },
  {
   "cell_type": "code",
   "execution_count": 23,
   "metadata": {
    "collapsed": false
   },
   "outputs": [
    {
     "data": {
      "text/plain": [
       "3-element Geodesy.ENU{Float64}:\n",
       " 2792.29  \n",
       "   44.4889\n",
       " -111.71  "
      ]
     },
     "execution_count": 23,
     "metadata": {},
     "output_type": "execute_result"
    }
   ],
   "source": [
    "mcgill_polyENU2 = T₂(mcgill_lla)"
   ]
  },
  {
   "cell_type": "markdown",
   "metadata": {},
   "source": [
    "Let's check the earlier result about the influence of the Earth curvature"
   ]
  },
  {
   "cell_type": "code",
   "execution_count": 33,
   "metadata": {
    "collapsed": false
   },
   "outputs": [
    {
     "data": {
      "text/plain": [
       "(NEDfromECEF(ECEF(1.2632970188624163e6, -4.295880227334187e6, 4.526811174244357e6), lat=45.50439°, lon=-73.61288°) ∘ ECEFfromLLA(Ellipsoid(wgs84_ellipsoid)))"
      ]
     },
     "execution_count": 33,
     "metadata": {},
     "output_type": "execute_result"
    }
   ],
   "source": [
    "T₃ = NEDfromLLA(LLA(poly_lla.lat, poly_lla.lon, 0.0), wgs84)  # NED frame centered at Poly but at altitude 0"
   ]
  },
  {
   "cell_type": "code",
   "execution_count": 34,
   "metadata": {
    "collapsed": false
   },
   "outputs": [
    {
     "data": {
      "text/plain": [
       "0.6103221340642335"
      ]
     },
     "execution_count": 34,
     "metadata": {},
     "output_type": "execute_result"
    }
   ],
   "source": [
    "T₃(LLA(mcgill_lla.lat, mcgill_lla.lon, 0.0)).d   # how much below the z-plane of poly_NED is McGill"
   ]
  },
  {
   "cell_type": "code",
   "execution_count": null,
   "metadata": {
    "collapsed": true
   },
   "outputs": [],
   "source": []
  }
 ],
 "metadata": {
  "kernelspec": {
   "display_name": "Julia 0.5.1",
   "language": "julia",
   "name": "julia-0.5"
  },
  "language_info": {
   "file_extension": ".jl",
   "mimetype": "application/julia",
   "name": "julia",
   "version": "0.5.1"
  }
 },
 "nbformat": 4,
 "nbformat_minor": 1
}
